{
 "cells": [
  {
   "cell_type": "code",
   "execution_count": null,
   "id": "b18363b0-61bd-4328-ab8d-e0b1bf440c20",
   "metadata": {
    "tags": []
   },
   "outputs": [],
   "source": [
    "import gen as g\n",
    "from tqdm import tqdm"
   ]
  },
  {
   "cell_type": "code",
   "execution_count": null,
   "id": "3ead4f18-9feb-410f-88f6-4544c68b2d7c",
   "metadata": {
    "tags": []
   },
   "outputs": [],
   "source": [
    "def generate():\n",
    "    dead_farmers = 0\n",
    "    \n",
    "    \n",
    "    \n",
    "    recommended_species = None\n",
    "    \n",
    "    chosen_class = None\n",
    "    \n",
    "    background = None\n",
    "\n",
    "    while not (recommended_species and chosen_class and background):\n",
    "        \n",
    "        stats, attempts = g.roll_stats()\n",
    "        \n",
    "        dead_farmers += attempts\n",
    "\n",
    "        recommended_species = g.recommend_species(stats)\n",
    "        \n",
    "        \n",
    "        updated_stats = g.apply_species_bonus(stats, recommended_species)\n",
    "\n",
    "        optimal_stats = g.sort_stats(updated_stats)\n",
    "    \n",
    "        chosen_class = g.select_class(optimal_stats)\n",
    "    \n",
    "        background = g.pick_background(optimal_stats)\n",
    "    \n",
    "    return recommended_species, chosen_class, background\n",
    "    "
   ]
  },
  {
   "cell_type": "code",
   "execution_count": null,
   "id": "3cbd9121-eea6-48cd-b1ed-65087f65c7a3",
   "metadata": {
    "tags": []
   },
   "outputs": [],
   "source": [
    "def track_species_selection(num_iterations):\n",
    "    species_count = {}\n",
    "    classes_count = {}\n",
    "    background_count = {}\n",
    "    for _ in tqdm(range(num_iterations)):\n",
    "        species, chosen_class, chosen_background = generate()\n",
    "        if species in species_count:\n",
    "            species_count[species] += 1\n",
    "        else:\n",
    "            species_count[species] = 1\n",
    "            \n",
    "        if chosen_class in classes_count:\n",
    "            classes_count[chosen_class] += 1\n",
    "        else:\n",
    "            classes_count[chosen_class] = 1\n",
    "            \n",
    "        if chosen_background in background_count:\n",
    "            background_count[chosen_background] += 1\n",
    "        else:\n",
    "            background_count[chosen_background] = 1\n",
    "\n",
    "    return species_count, classes_count, background_count\n",
    "\n",
    "species_results, class_results, background_results = track_species_selection(10000)\n",
    "\n",
    "for species, count in species_results.items():\n",
    "    print(f\"{species}: {count}\")\n",
    "    \n",
    "for chosen_class, count in class_results.items():\n",
    "    print(f\"{chosen_class}: {count}\")\n",
    "    \n",
    "for chosen_background, count in background_results.items():\n",
    "    print(f\"{chosen_background}: {count}\")"
   ]
  },
  {
   "cell_type": "code",
   "execution_count": null,
   "id": "8fc88d64-02c6-4eb1-b52b-0163cbc3a4ca",
   "metadata": {
    "tags": []
   },
   "outputs": [],
   "source": [
    "import matplotlib.pyplot as plt\n",
    "sorted_species = sorted(species_results.items(), key=lambda item: item[1], reverse=True)\n",
    "    \n",
    "species, counts = zip(*sorted_species)\n",
    "\n",
    "plt.figure(figsize=(10, 6))\n",
    "plt.bar(species, counts)\n",
    "plt.title('Species Selected For 10,000 Rolled Arrays', fontsize = 18)\n",
    "plt.xlabel('Species', fontsize = 14)\n",
    "plt.ylabel('Count', fontsize = 14)\n",
    "plt.xticks(rotation=45)\n",
    "plt.grid(axis='y', linestyle='--')\n",
    "plt.tight_layout()\n",
    "plt.savefig('results.png')"
   ]
  },
  {
   "cell_type": "code",
   "execution_count": null,
   "id": "ab3b289d-9968-403b-8c58-ddf2a7109e35",
   "metadata": {
    "tags": []
   },
   "outputs": [],
   "source": [
    "import matplotlib.pyplot as plt\n",
    "sorted_species = sorted(class_results.items(), key=lambda item: item[1], reverse=True)\n",
    "    \n",
    "    # Unzip the sorted results into two lists\n",
    "species, counts = zip(*sorted_species)\n",
    "\n",
    "plt.figure(figsize=(10, 6))\n",
    "plt.bar(species, counts)\n",
    "plt.title('Classes Selected For 10,000 Rolled Arrays', fontsize = 18)\n",
    "plt.xlabel('Species', fontsize = 14)\n",
    "plt.ylabel('Count', fontsize = 14)\n",
    "plt.xticks(rotation=45)\n",
    "plt.grid(axis='y', linestyle='--')\n",
    "plt.tight_layout()\n",
    "plt.savefig('results.png')"
   ]
  },
  {
   "cell_type": "code",
   "execution_count": null,
   "id": "2ad703d8-4449-4fa3-9d2b-c0b343897eb2",
   "metadata": {
    "tags": []
   },
   "outputs": [],
   "source": [
    "import matplotlib.pyplot as plt\n",
    "sorted_species = sorted(background_results.items(), key=lambda item: item[1], reverse=True)\n",
    "    \n",
    "    # Unzip the sorted results into two lists\n",
    "species, counts = zip(*sorted_species)\n",
    "\n",
    "plt.figure(figsize=(10, 6))\n",
    "plt.bar(species, counts)\n",
    "plt.title('Classes Selected For 10,000 Rolled Arrays', fontsize = 18)\n",
    "plt.xlabel('Species', fontsize = 14)\n",
    "plt.ylabel('Count', fontsize = 14)\n",
    "plt.xticks(rotation=45)\n",
    "plt.grid(axis='y', linestyle='--')\n",
    "plt.tight_layout()\n",
    "plt.savefig('results.png')"
   ]
  }
 ],
 "metadata": {
  "kernelspec": {
   "display_name": "Python 3 (ipykernel)",
   "language": "python",
   "name": "python3"
  },
  "language_info": {
   "codemirror_mode": {
    "name": "ipython",
    "version": 3
   },
   "file_extension": ".py",
   "mimetype": "text/x-python",
   "name": "python",
   "nbconvert_exporter": "python",
   "pygments_lexer": "ipython3",
   "version": "3.7.6"
  }
 },
 "nbformat": 4,
 "nbformat_minor": 5
}
