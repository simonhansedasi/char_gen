{
 "cells": [
  {
   "cell_type": "code",
   "execution_count": 1,
   "id": "33be04ff-c114-4098-a8f3-967248eb527e",
   "metadata": {
    "tags": []
   },
   "outputs": [],
   "source": [
    "import gen as g\n",
    "import sqlite3\n",
    "import random"
   ]
  },
  {
   "cell_type": "code",
   "execution_count": 2,
   "id": "630e9d8a-3435-4e8a-b38f-73331b61392d",
   "metadata": {
    "tags": []
   },
   "outputs": [],
   "source": [
    "stats = ['STR','DEX','CON','INT','WIS','CHA']\n",
    "stat_id_mapping = {\n",
    "    'STR': 1,\n",
    "    'DEX': 2,\n",
    "    'CON': 3,\n",
    "    'INT': 4,\n",
    "    'WIS': 5,\n",
    "    'CHA': 6\n",
    "}\n",
    "\n",
    "stat_id_mapping_inv = {v: k for k, v in stat_id_mapping.items()}\n"
   ]
  },
  {
   "cell_type": "code",
   "execution_count": 3,
   "id": "a5ef3353-25b9-47cf-88f6-5876010459f2",
   "metadata": {
    "tags": []
   },
   "outputs": [],
   "source": [
    "stats, attempts = g.roll_stats()\n",
    "# recommended_species = g.recommend_species(stats)"
   ]
  },
  {
   "cell_type": "code",
   "execution_count": 4,
   "id": "554d6da2-3479-415d-83e9-590c17e35cf6",
   "metadata": {
    "tags": []
   },
   "outputs": [
    {
     "name": "stdout",
     "output_type": "stream",
     "text": [
      "[(5, 16), (3, 15), (2, 14), (1, 13), (4, 13), (6, 12)]\n"
     ]
    }
   ],
   "source": [
    "rs = g.recommend_species(stats)\n",
    "# rs"
   ]
  },
  {
   "cell_type": "code",
   "execution_count": 6,
   "id": "c7670528-33d7-4697-89fe-faab3c3e2282",
   "metadata": {
    "tags": []
   },
   "outputs": [
    {
     "data": {
      "text/plain": [
       "'Dwarf (Hill)'"
      ]
     },
     "execution_count": 6,
     "metadata": {},
     "output_type": "execute_result"
    }
   ],
   "source": [
    "rs"
   ]
  },
  {
   "cell_type": "code",
   "execution_count": null,
   "id": "dc2a2cbb-ab5c-4b4d-844a-b9b9b261690f",
   "metadata": {},
   "outputs": [],
   "source": [
    "# Create a list to store stat_id and values\n",
    "rolled_values = [(stat_id_mapping[stat], value) for stat, value in stats.items()]\n",
    "\n",
    "# Sort for highest values (descending), using priority to handle ties\n",
    "rolled_values.sort(key=lambda x: (x[1], priority_order[stat_id_mapping_inv[x[0]]]), reverse=True)\n",
    "highest_two_ids = [rolled_values[0][0], rolled_values[1][0]]\n",
    "\n",
    "# Sort for lowest values (ascending), using priority to handle ties\n",
    "rolled_values.sort(key=lambda x: (x[1], priority_order[stat_id_mapping_inv[x[0]]]))\n",
    "lowest_two_ids = [rolled_values[0][0], rolled_values[1][0]]\n",
    "\n",
    "# Prepare highest-lowest combo\n",
    "highest_lowest_combo = (highest_two_ids[0], lowest_two_ids[0])\n",
    "\n",
    "# Print results\n",
    "print(\"Highest two stat IDs:\", highest_two_ids)\n",
    "print(\"Lowest two stat IDs:\", lowest_two_ids)\n",
    "print(\"Highest-Lowest combo:\", highest_lowest_combo)\n",
    "\n",
    "# Generate placeholders for SQL queries if needed\n",
    "placeholder_highest = ', '.join(['?'] * len(highest_two_ids))\n",
    "placeholder_lowest = ', '.join(['?'] * len(lowest_two_ids))\n",
    "placeholder_combo = ', '.join(['?'] * 2)\n"
   ]
  }
 ],
 "metadata": {
  "kernelspec": {
   "display_name": "Python 3 (ipykernel)",
   "language": "python",
   "name": "python3"
  },
  "language_info": {
   "codemirror_mode": {
    "name": "ipython",
    "version": 3
   },
   "file_extension": ".py",
   "mimetype": "text/x-python",
   "name": "python",
   "nbconvert_exporter": "python",
   "pygments_lexer": "ipython3",
   "version": "3.7.6"
  }
 },
 "nbformat": 4,
 "nbformat_minor": 5
}
