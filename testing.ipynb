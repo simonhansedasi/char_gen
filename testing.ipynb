{
 "cells": [
  {
   "cell_type": "code",
   "execution_count": 1,
   "id": "33be04ff-c114-4098-a8f3-967248eb527e",
   "metadata": {},
   "outputs": [],
   "source": [
    "import gen as g\n",
    "import sqlite3"
   ]
  },
  {
   "cell_type": "code",
   "execution_count": 2,
   "id": "630e9d8a-3435-4e8a-b38f-73331b61392d",
   "metadata": {},
   "outputs": [],
   "source": [
    "stats = ['STR','DEX','CON','INT','WIS','CHA']\n",
    "stat_id_mapping = {\n",
    "    'STR': 1,\n",
    "    'DEX': 2,\n",
    "    'CON': 3,\n",
    "    'INT': 4,\n",
    "    'WIS': 5,\n",
    "    'CHA': 6\n",
    "}\n",
    "\n",
    "stat_id_mapping_inv = {v: k for k, v in stat_id_mapping.items()}\n"
   ]
  },
  {
   "cell_type": "code",
   "execution_count": 3,
   "id": "a5ef3353-25b9-47cf-88f6-5876010459f2",
   "metadata": {},
   "outputs": [],
   "source": [
    "stats, attempts = g.roll_stats()\n",
    "recommended_species = g.recommend_species(stats)"
   ]
  },
  {
   "cell_type": "code",
   "execution_count": 4,
   "id": "493be271-01ea-4baa-8562-f45dec0b9aab",
   "metadata": {},
   "outputs": [
    {
     "name": "stdout",
     "output_type": "stream",
     "text": [
      "['Human', 'Half-Elf']\n"
     ]
    }
   ],
   "source": [
    "print(recommended_species)"
   ]
  },
  {
   "cell_type": "code",
   "execution_count": 5,
   "id": "350e8d0e-8887-44cd-a34b-e49fe56e16d5",
   "metadata": {},
   "outputs": [],
   "source": [
    "stats['CHA'] = 16"
   ]
  },
  {
   "cell_type": "code",
   "execution_count": 6,
   "id": "252eb34b-161a-45b9-890b-cedf3d0f5115",
   "metadata": {},
   "outputs": [
    {
     "name": "stdout",
     "output_type": "stream",
     "text": [
      "{'STR': 12, 'DEX': 5, 'CON': 12, 'INT': 17, 'WIS': 12, 'CHA': 16}\n",
      "Processing species: Human\n",
      "[(4, 6)]\n",
      "{'STR': 12, 'DEX': 5, 'CON': 12, 'INT': 18, 'WIS': 12, 'CHA': 17}\n",
      "Processing species: Half-Elf\n",
      "[(3, 4)]\n",
      "{'STR': 12, 'DEX': 5, 'CON': 13, 'INT': 18, 'WIS': 12, 'CHA': 18}\n"
     ]
    }
   ],
   "source": [
    "\n",
    "updated_stats = apply_species_bonus(stats, recommended_species)\n"
   ]
  },
  {
   "cell_type": "code",
   "execution_count": 18,
   "id": "066e172f-9c7e-438a-89a3-fdf048953828",
   "metadata": {},
   "outputs": [
    {
     "data": {
      "text/plain": [
       "1.0000000000000002"
      ]
     },
     "execution_count": 18,
     "metadata": {},
     "output_type": "execute_result"
    }
   ],
   "source": [
    "human = 0.25\n",
    "dwarf = 0.15\n",
    "elf = 0.07\n",
    "halfling = 0.12\n",
    "dragonborn = 0.05\n",
    "gnome = 0.1\n",
    "halfelf = 0.16\n",
    "halforc = 0.05\n",
    "tiefling = 0.05\n",
    "\n",
    "human + dwarf + elf + halfling + dragonborn + gnome + halfelf + halforc + tiefling"
   ]
  }
 ],
 "metadata": {
  "kernelspec": {
   "display_name": "Python 3 (ipykernel)",
   "language": "python",
   "name": "python3"
  },
  "language_info": {
   "codemirror_mode": {
    "name": "ipython",
    "version": 3
   },
   "file_extension": ".py",
   "mimetype": "text/x-python",
   "name": "python",
   "nbconvert_exporter": "python",
   "pygments_lexer": "ipython3",
   "version": "3.7.6"
  }
 },
 "nbformat": 4,
 "nbformat_minor": 5
}
